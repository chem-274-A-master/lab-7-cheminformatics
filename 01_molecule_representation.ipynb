{
 "cells": [
  {
   "cell_type": "markdown",
   "id": "6ead2fd2-c4c5-4f2f-9de6-a1a975c1011c",
   "metadata": {
    "tags": []
   },
   "source": [
    "# Cheminformatics Background and Concepts\n",
    "\n",
    "This notebook will introduce you to some background concepts in Cheminformatics and get you started working with the software RDKit.\n",
    "[Cheminformatics](https://en.wikipedia.org/wiki/Cheminformatics) involves the use of computational techniques, including machine learning and statistical methods, for managing, analyzing, and predicting chemical data and properties.\n",
    "Cheminformatics techniques are used commonly in pharamaceutical and drug discovery applications.\n",
    "\n",
    "One commonly used library in Python for data science (or cheminformatics) is called [RDKit](https://en.wikipedia.org/wiki/RDKit). \n",
    "RDKit is an open-source cheminformatics library, primarily developed in C++, and was created by [Dr. Greg Landrum](https://scholar.google.com/citations?user=xr9paY0AAAAJ&hl=en) in 2006. \n",
    "We will be using the Python interface to RDKit, though there are interfaces in other languages.\n"
   ]
  },
  {
   "cell_type": "markdown",
   "id": "1a20ce5f-0392-40be-a64f-006929d49a5a",
   "metadata": {},
   "source": [
    "## Molecular Representations: SMILES\n",
    "\n",
    "SMILES stands for \"Simplified Molecular-Input Line-Entry System\" and is a way to represent molecules as a string of characters.\n",
    "\n",
    "You can read more about SMILES at [this tutorial](https://archive.epa.gov/med/med_archive_03/web/html/smiles.html), but rules for atoms and bonds are also repeated below.\n",
    "\n",
    "### Atoms\n",
    "SMILES supports all elements in the periodic table. An atom is represented using its respective atomic symbol. Upper case letters refer to non-aromatic atoms; lower case letters refer to aromatic atoms. If the atomic symbol has more than one letter the second letter must be lower case.\n",
    "\n",
    "### Bonds\n",
    "```\n",
    "-\tSingle bond\n",
    "=\tDouble bond\n",
    "#\tTriple bond\n",
    "*\tAromatic bond\n",
    ".\tDisconnected structures\n",
    "```\n",
    "Single bonds are the default and therefore need not be entered. For example, 'CC' would mean that there is a non-aromatic carbon attached to another non-aromatic carbon by a single bond, and the computer would identify the structure as the chemical ethane. It is also assumed that the bond between two lower case atom symbols is aromatic. A blank terminates the SMILES string.\n",
    "\n",
    "### Branches\n",
    "\n",
    "A branch from a chain is specified by placing the SMILES symbol(s) for the branch between parenthesis. Some examples:\n",
    "\n",
    "```\n",
    "\n",
    "CC(O)C\t2-Propanol\n",
    "CC(=O)C\t2-Propanone\n",
    "CC(CC)C\t2-Methylbutane\n",
    "CC(C)CC(=O)\t2-Methylbutanal\n",
    "c1c(N(=O)=O)cccc1\tNitrobenzene\n",
    "CC(C)(C)CC\t2,2-Dimethylbutane\n",
    "```\n",
    "\n",
    "Most of the time, you will not need to write a SMILES string by hand. You will be able to look up a molecule's SMILES string from a web database like [PubChem](https://pubchem.ncbi.nlm.nih.gov/).\n",
    "\n",
    "You can also use tools like this [molecule sketcher](https://pubchem.ncbi.nlm.nih.gov//edit3/index.html) to draw molecules and get their SMILES strings."
   ]
  },
  {
   "cell_type": "markdown",
   "id": "b408dc12-f3c0-4777-ae00-b77e7555f068",
   "metadata": {},
   "source": [
    "<div class=\"exercise admonition\">\n",
    "<p class=\"admonition-title\">Check Your Understanding</p>\n",
    "<p> Based on what you've learned about SMILES strings, answer the following questions:\n",
    "<p>\n",
    "    <ul>\n",
    "        <li> What would be the SMILES string for ethanol?\n",
    "        <li> What is the SMILES string for water?\n",
    "        <li> What molecule is represented by the SMILES string O=C=O?\n",
    "    </ul>\n",
    "</p>\n",
    "<p>Check your answers from this previous exercise using the PubChem molecule sketcher. Notice that you can type in a SMILES string and have the sketcher draw the molecule for you.</p>\n",
    "</div>"
   ]
  },
  {
   "cell_type": "markdown",
   "id": "002cdda7-264d-4bb2-b21d-547b9c17332d",
   "metadata": {},
   "source": [
    "### Fill in your answers here:\n",
    "Double click the cell to edit.\n",
    "\n",
    "1.\n",
    "2.\n",
    "3.\n"
   ]
  },
  {
   "cell_type": "markdown",
   "id": "7e3ffc37-189b-4e0a-9622-2c81957ffcfe",
   "metadata": {},
   "source": [
    "Now that we have an introduction to SMILES, \n",
    "we will use SMILES with RDKit to create RDKit molecule objects.\n",
    "\n",
    "\n",
    "We are going to use a part of RDKit called `Chem`. To use `Chem`, we first have to import it. "
   ]
  },
  {
   "cell_type": "code",
   "execution_count": null,
   "id": "d8e1098b-3024-494f-8a48-749ab686b62b",
   "metadata": {},
   "outputs": [],
   "source": [
    "from rdkit import Chem"
   ]
  },
  {
   "cell_type": "markdown",
   "id": "de4d65ee-8c4d-441a-8600-bb597d9f4c81",
   "metadata": {},
   "source": [
    "## Creating Molecules with RDKit\n",
    "\n",
    "To get information about molecules in RDKit, we have to first create variables representing molecules.\n",
    "RDKit has molecule object that can be used to retrieve information or calculate properties. \n",
    "First, the molecule name has to be communicated to RDKit in a way that computers understand. \n",
    "\n",
    "### Creating molecules using SMILES\n",
    "\n",
    "In the first part of this notebook, we learned about molecular representations using SMILES strings. Now we will use SMILES strings to create molecule objects in RDKIT. \n",
    "\n",
    "We can create a representation of methane using RDKit by using the `MolFromSmiles` function in `rdkit.Chem`.\n",
    "If you put a RDKit `mol` object as the last thing in a Jupyter notebook cell, you will see a representation of the molecule."
   ]
  },
  {
   "cell_type": "code",
   "execution_count": null,
   "id": "32633ba3-c217-4a0e-8fc0-9ab0821ebed4",
   "metadata": {},
   "outputs": [],
   "source": [
    "methane = Chem.MolFromSmiles(\"C\")\n",
    "methane"
   ]
  },
  {
   "cell_type": "markdown",
   "id": "c51cd33f-7417-4326-ae7f-7d3353d39231",
   "metadata": {},
   "source": [
    " Create RDKit molecules for the following molecules. You can look up the SMILES strings on <a href=\"https://pubchem.ncbi.nlm.nih.gov/\">PubChem</a>:\n",
    "<p>\n",
    "    <ul>\n",
    "        <li> Propane\n",
    "        <li> Ethene\n",
    "        <li> Cyclohexane\n",
    "        <li> Benzene\n",
    "    </ul>\n",
    "</p>"
   ]
  },
  {
   "cell_type": "code",
   "execution_count": null,
   "id": "949e4b0a-ad49-425b-adbf-b497ffd1c7a4",
   "metadata": {},
   "outputs": [],
   "source": [
    "# fill in \n",
    "propane = \n",
    "propane"
   ]
  },
  {
   "cell_type": "code",
   "execution_count": null,
   "id": "244a6387-48da-403b-889e-667ab0dd6067",
   "metadata": {},
   "outputs": [],
   "source": [
    "# fill in \n",
    "ethene = \n",
    "ethene"
   ]
  },
  {
   "cell_type": "code",
   "execution_count": null,
   "id": "f10fb728-84b1-449c-a4e8-876244f37e11",
   "metadata": {},
   "outputs": [],
   "source": []
  },
  {
   "cell_type": "markdown",
   "id": "88a070eb-5766-4154-b0b8-925f57f28897",
   "metadata": {},
   "source": [
    "## Molecular Similarity : Substructure Searches\n",
    "\n",
    "Sometimes you may wish to search a set of molecules and identify molecules that have certain functional groups.\n",
    "In the language of graph representation, we would be looking for our molecule graph to contain a certain subgraph."
   ]
  },
  {
   "cell_type": "code",
   "execution_count": null,
   "id": "067ae91b-a361-48fe-ac0a-211e8deddb88",
   "metadata": {},
   "outputs": [],
   "source": [
    "caffeine = Chem.MolFromSmiles('CN1C=NC2=C1C(=O)N(C(=O)N2C)C')\n",
    "caffeine"
   ]
  },
  {
   "cell_type": "code",
   "execution_count": null,
   "id": "47d7d506-acc8-4525-a09f-8872586049bb",
   "metadata": {},
   "outputs": [],
   "source": [
    "o_pattern = Chem.MolFromSmiles(\"C=O\")"
   ]
  },
  {
   "cell_type": "code",
   "execution_count": null,
   "id": "7ee429c5-fa4a-41b0-ad4d-7a5050b81baa",
   "metadata": {},
   "outputs": [],
   "source": [
    "mathes = caffeine.GetSubstructMatches(o_pattern)\n",
    "caffeine"
   ]
  },
  {
   "cell_type": "code",
   "execution_count": null,
   "id": "c086fd0c-f030-4de1-8277-cb5b31b2e494",
   "metadata": {},
   "outputs": [],
   "source": []
  },
  {
   "cell_type": "code",
   "execution_count": null,
   "id": "c03cccbe-deed-4b57-a32f-be271b956c17",
   "metadata": {},
   "outputs": [],
   "source": []
  },
  {
   "cell_type": "markdown",
   "id": "7512f537-1682-41d9-b582-c7df5338cad6",
   "metadata": {},
   "source": [
    "## Molecular Fingerprints\n",
    "\n",
    "Molecular fingerprints are representations of molecules that are usually bit strings, or vectors of 0's and 1's. \n",
    "Fingerprints are built by considering the molecular structure (often as some sort of graph representation) and applying a certain algorithm to create the vector.\n",
    "\n",
    "<center>\n",
    "<img src=\"images/Topological_Fingerprint.png\">\n",
    "</center>\n",
    "\n",
    "Image from [Chemistry LibreTexts](https://chem.libretexts.org/Courses/Intercollegiate_Courses/Cheminformatics/06%3A_Molecular_Similarity/6.01%3A_Molecular_Descriptors) [Cheminformatics Course](https://chem.libretexts.org/Courses/Intercollegiate_Courses/Cheminformatics)\n",
    "\n",
    "There are many different fingerprinting algorithms. \n",
    "But they tend to fall into two types of groups - similarity or substructure fingerprints.\n",
    "A common similarity fingerprint that is used is the Morgan fingerprint.\n",
    "A common substructure fingerprint that is used is the [Daylight fingerprint](https://www.daylight.com/dayhtml/doc/theory/theory.finger.html) (the RDKFingerprint is a Daylight-like fingerprint)."
   ]
  },
  {
   "cell_type": "code",
   "execution_count": null,
   "id": "38b3f577-5bf7-4b0f-904b-049998fc3b55",
   "metadata": {},
   "outputs": [],
   "source": [
    "from rdkit.Chem import AllChem\n",
    "\n",
    "fpgen = AllChem.GetMorganGenerator(radius=2)\n",
    "\n",
    "benzene = Chem.MolFromSmiles(\"c1ccccc1\")\n",
    "aniline = Chem.MolFromSmiles(\"Nc1ccccc1\")\n",
    "pyridine = Chem.MolFromSmiles(\"n1ccccc1\")"
   ]
  },
  {
   "cell_type": "code",
   "execution_count": null,
   "id": "03f5e2d4-c2b4-45db-bd17-c94d14d200a8",
   "metadata": {},
   "outputs": [],
   "source": [
    "benzene"
   ]
  },
  {
   "cell_type": "code",
   "execution_count": null,
   "id": "7116c24a-fe10-4167-bcb4-57bbd220d0bf",
   "metadata": {},
   "outputs": [],
   "source": [
    "aniline"
   ]
  },
  {
   "cell_type": "code",
   "execution_count": null,
   "id": "5794d71c-8e40-48ad-a104-4c44aea2a6fa",
   "metadata": {},
   "outputs": [],
   "source": [
    "pyridine"
   ]
  },
  {
   "cell_type": "code",
   "execution_count": null,
   "id": "1bebcdae-8bda-4a5b-855a-7a306c44442f",
   "metadata": {},
   "outputs": [],
   "source": [
    "# Get fingerprints for the molecules.\n",
    "benzene_fp = fpgen.GetFingerprint(benzene)\n",
    "aniline_fp = fpgen.GetFingerprint(aniline)\n",
    "pyridine_fp = fpgen.GetFingerprint(pyridine)"
   ]
  },
  {
   "cell_type": "markdown",
   "id": "3d887bba-c6fa-480c-a790-65766285304e",
   "metadata": {},
   "source": [
    "RDKit will let us see the bitstring for each fingerprint:"
   ]
  },
  {
   "cell_type": "code",
   "execution_count": null,
   "id": "c27268d0-959e-4822-a732-4fbb87de7df0",
   "metadata": {},
   "outputs": [],
   "source": [
    "benzene_fp.ToBitString()"
   ]
  },
  {
   "cell_type": "code",
   "execution_count": null,
   "id": "ddda8d36-400a-4700-b7d7-68628d13fb3a",
   "metadata": {},
   "outputs": [],
   "source": [
    "from rdkit import DataStructs\n",
    "\n",
    "# measure similarity - a higher number is more similar\n",
    "DataStructs.TanimotoSimilarity(benzene_fp, aniline_fp)"
   ]
  },
  {
   "cell_type": "code",
   "execution_count": null,
   "id": "d45439ad-205d-46b2-8d2b-6851f6b230ef",
   "metadata": {},
   "outputs": [],
   "source": [
    "# Exercise - measure similarity between benzene and pyridine\n"
   ]
  },
  {
   "cell_type": "code",
   "execution_count": null,
   "id": "c6443a4e-9299-462b-99fd-45823d18eb44",
   "metadata": {},
   "outputs": [],
   "source": []
  },
  {
   "cell_type": "code",
   "execution_count": null,
   "id": "8e8a7276-28fa-4c3d-aa13-cbd791ac0634",
   "metadata": {},
   "outputs": [],
   "source": []
  },
  {
   "cell_type": "markdown",
   "id": "f23a6f3d-50ff-4262-9f20-0c393375a355",
   "metadata": {},
   "source": [
    "## RDKit and Molecular Descriptors\n",
    "\n",
    "A molecular descriptor is a numerical value or a set of values that represent specific structural or chemical features of a molecule. Molecular descriptors are based on molecular structure and allow statistical analysis and similarity measurements on molecules.\n",
    "\n",
    "RDKit supports the calculation of many molecular descriptors. You can see a [full list of RDKit descriptors](https://www.rdkit.org/docs/GettingStartedInPython.html#list-of-available-descriptors) or [see the module documentation](https://www.rdkit.org/docs/source/rdkit.Chem.Descriptors.html).\n",
    "\n",
    "To get molecular descriptors from RDKit, we import the `Descriptors` module.\n",
    "\n",
    "```python\n",
    "from rdkit.Chem import Descriptors\n",
    "```\n",
    "\n",
    "To get a descriptor, you do\n",
    "\n",
    "```python\n",
    "Descriptors.descriptor_name(molecule_variable)\n",
    "\n",
    "```\n",
    "\n",
    "RDKit supports a number of molecular descriptors, a list of which is given below, along with the RDKit method for the property.\n",
    "\n",
    "\n",
    "Name of Property      | Name of RDKit Descriptor Function\n",
    "----------------------|-----------------------------------|\n",
    "molecular weight      | Descriptors.MolWt\n",
    "number of heavy atoms | Descriptors.HeavyAtomCount\n",
    "number of H-bond donors| Descriptors.NumHDonors\n",
    "number of H-bond donors| Descriptors.NumHAcceptors\n",
    "octanol-water partition coefficient| Descriptors.MolLogP\n",
    "topological polar surface area | Descriptors.TPSA\n",
    "number of rotatable bonds      | Descriptors.NumRotatableBonds\n",
    "number of aromatic rings       | Descriptors.NumAromaticRings\n",
    "number of aliphatic rings      | Descriptors.NumAliphaticRings"
   ]
  },
  {
   "cell_type": "code",
   "execution_count": null,
   "id": "65e803e8-fb34-470a-95cd-6adc879bda04",
   "metadata": {},
   "outputs": [],
   "source": [
    "from rdkit.Chem import Descriptors"
   ]
  },
  {
   "cell_type": "code",
   "execution_count": null,
   "id": "27cc7b8c-db3c-450e-8916-328240473af2",
   "metadata": {},
   "outputs": [],
   "source": [
    "print(\"Printing info for methane:\")\n",
    "print(f\"The molecular weight is {Descriptors.MolWt(methane)}\")\n",
    "print(f\"The number of aromatic rings is {Descriptors.NumAromaticRings(methane)}\")\n"
   ]
  },
  {
   "cell_type": "code",
   "execution_count": null,
   "id": "0d77069c-52d4-4c30-8b8f-952564369987",
   "metadata": {},
   "outputs": [],
   "source": []
  }
 ],
 "metadata": {
  "kernelspec": {
   "display_name": "Python 3 (ipykernel)",
   "language": "python",
   "name": "python3"
  },
  "language_info": {
   "codemirror_mode": {
    "name": "ipython",
    "version": 3
   },
   "file_extension": ".py",
   "mimetype": "text/x-python",
   "name": "python",
   "nbconvert_exporter": "python",
   "pygments_lexer": "ipython3",
   "version": "3.11.6"
  }
 },
 "nbformat": 4,
 "nbformat_minor": 5
}
