{
 "cells": [
  {
   "cell_type": "markdown",
   "id": "fc39cb00-89f4-4ec0-a114-8c77dd22d429",
   "metadata": {},
   "source": [
    "# Molecular Similarity and Substructure on Datasets\n",
    "\n",
    "This notebook explores substructure searches and similarity measurements in a larger dataset.\n",
    "Often in cheminformatics, one will want to perform these measurements on large datasets for molecular screening.\n",
    "\n",
    "In the previous notebook, substructure searches using subgraphs was mentioned. However, for larger datasets, this can become too computationally expensive. \n",
    "Another option to to do a substructure search using molecular fingerprints.\n",
    "In this type of substructure search, the \"on-bits\" for a particular molecular pattern are determined.\n",
    "Then, any molecules having those bits in the fingerprint are returned as matching.\n",
    "\n",
    "This notebook demonstrates the principle using RDKit PandasTools"
   ]
  },
  {
   "cell_type": "code",
   "execution_count": null,
   "id": "3d3a9dd8-7e14-4e88-a88f-7027b1ca0918",
   "metadata": {},
   "outputs": [],
   "source": [
    "import pandas as pd\n",
    "\n",
    "from rdkit import Chem\n",
    "from rdkit.Chem import PandasTools\n",
    "PandasTools.RenderImagesInAllDataFrames(images=True)"
   ]
  },
  {
   "cell_type": "code",
   "execution_count": null,
   "id": "59d33bc2-4178-4fda-a72c-178a88772ec7",
   "metadata": {},
   "outputs": [],
   "source": [
    "df = pd.read_table(\"data/chembl_drugs.smi\")"
   ]
  },
  {
   "cell_type": "code",
   "execution_count": null,
   "id": "c7651f24-9037-4011-8317-32c6f6c0090c",
   "metadata": {},
   "outputs": [],
   "source": [
    "df.info()"
   ]
  },
  {
   "cell_type": "code",
   "execution_count": null,
   "id": "dc6c51c3-055d-4dfb-b1f5-cc3aa1658f88",
   "metadata": {},
   "outputs": [],
   "source": [
    "df.head()"
   ]
  },
  {
   "cell_type": "code",
   "execution_count": null,
   "id": "62779fa6-f07d-4f3d-b339-715323665485",
   "metadata": {},
   "outputs": [],
   "source": [
    "PandasTools.AddMoleculeColumnToFrame(df,'SMILES','Molecule', includeFingerprints=True)"
   ]
  },
  {
   "cell_type": "code",
   "execution_count": null,
   "id": "2422f210-70a3-4a34-9ee5-3138a873b547",
   "metadata": {},
   "outputs": [],
   "source": [
    "df.head(3)"
   ]
  },
  {
   "cell_type": "code",
   "execution_count": null,
   "id": "31112dc6-ac14-44b9-9059-cda0f2181c9f",
   "metadata": {},
   "outputs": [],
   "source": [
    "benzene = Chem.MolFromSmiles(\"c1ccccc1\")"
   ]
  },
  {
   "cell_type": "markdown",
   "id": "4f3ccd80-e369-44b7-bcef-a335af4f8c71",
   "metadata": {},
   "source": [
    "RDKit provides an operator for performing substructure searches on pandas dataframes.\n",
    "To use it, you do\n",
    "\n",
    "```python\n",
    "\n",
    "df[\"molecule\"] >= molecule\n",
    "\n",
    "```\n",
    "\n",
    "where `df[\"molecule\"]` contains RDKit molecule objects and molecule is an RDKit molecule object."
   ]
  },
  {
   "cell_type": "code",
   "execution_count": null,
   "id": "19b8ad78-20af-448d-bc12-7791e866da9a",
   "metadata": {},
   "outputs": [],
   "source": [
    "matches = df[df[\"Molecule\"] >= benzene]\n",
    "matches.head(3)"
   ]
  },
  {
   "cell_type": "code",
   "execution_count": null,
   "id": "99c1d32f-fad4-43b7-a58b-9f6b1c0377e8",
   "metadata": {},
   "outputs": [],
   "source": [
    "# how many molecules contain benzene?"
   ]
  },
  {
   "cell_type": "code",
   "execution_count": null,
   "id": "3aa170cd-2df4-476d-a056-98945d04b2c1",
   "metadata": {},
   "outputs": [],
   "source": [
    "matches.info()"
   ]
  },
  {
   "cell_type": "code",
   "execution_count": null,
   "id": "0908fbfe-5ecb-4eb4-bd5d-c91c5471e95a",
   "metadata": {},
   "outputs": [],
   "source": []
  },
  {
   "cell_type": "code",
   "execution_count": null,
   "id": "a19fd7c4-6955-4c6e-8b83-9ccf87361c21",
   "metadata": {},
   "outputs": [],
   "source": []
  },
  {
   "cell_type": "markdown",
   "id": "ca24e344-d8ec-47de-b098-00e9cb8bd6c4",
   "metadata": {},
   "source": [
    "Fingerprint substructure searches are less exact than graph substructure searches, and are often used as a refining first step."
   ]
  },
  {
   "cell_type": "markdown",
   "id": "9682c202-b9e6-48f4-9ea2-32eadfccb017",
   "metadata": {},
   "source": [
    "## Are Fingerprints Unique?\n",
    "Despite the name \"fingerprints\" , molecular fingerprints are not unique to an individual molecule.\n",
    "Because of the way fingerprints are calculated, it is possible for two similar (but not identical) molecules\n",
    "to have the same molecular fingerprint.\n",
    "\n",
    "Use the cells below to investigate this - does our dataset produce all unique Morgan fingerprints?"
   ]
  },
  {
   "cell_type": "code",
   "execution_count": null,
   "id": "f43aadcf-b8ff-4495-bb7b-284e7873a622",
   "metadata": {},
   "outputs": [],
   "source": [
    "from rdkit.Chem import AllChem\n",
    "fpgen = AllChem.GetMorganGenerator()"
   ]
  },
  {
   "cell_type": "code",
   "execution_count": null,
   "id": "8a975c52-fc53-4aad-93f0-a0e915050729",
   "metadata": {},
   "outputs": [],
   "source": [
    "# Get morgan fingerprint column - store as binary for each fingerprint\n",
    "df[\"morgan_fingerprints\"] = df[\"Molecule\"].apply(lambda x : fpgen.GetFingerprint(x).ToBinary() )"
   ]
  },
  {
   "cell_type": "code",
   "execution_count": null,
   "id": "b4d8f1be-3f28-43da-90ce-ec55ce44c1d6",
   "metadata": {},
   "outputs": [],
   "source": []
  },
  {
   "cell_type": "code",
   "execution_count": null,
   "id": "d52cf585-b45b-4a87-aae6-08a4438c2bb1",
   "metadata": {},
   "outputs": [],
   "source": []
  },
  {
   "cell_type": "code",
   "execution_count": null,
   "id": "540df6ee-baca-46ef-bd05-c9d3beb11625",
   "metadata": {},
   "outputs": [],
   "source": []
  },
  {
   "cell_type": "code",
   "execution_count": null,
   "id": "280b53a8-a420-4e09-8d5f-756990eff838",
   "metadata": {},
   "outputs": [],
   "source": []
  }
 ],
 "metadata": {
  "kernelspec": {
   "display_name": "Python 3 (ipykernel)",
   "language": "python",
   "name": "python3"
  },
  "language_info": {
   "codemirror_mode": {
    "name": "ipython",
    "version": 3
   },
   "file_extension": ".py",
   "mimetype": "text/x-python",
   "name": "python",
   "nbconvert_exporter": "python",
   "pygments_lexer": "ipython3",
   "version": "3.11.6"
  }
 },
 "nbformat": 4,
 "nbformat_minor": 5
}
