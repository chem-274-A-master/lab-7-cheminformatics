{
 "cells": [
  {
   "cell_type": "markdown",
   "id": "70ff4a90-bee7-46cc-96f5-05fe204d47bd",
   "metadata": {},
   "source": [
    "# Molecule Generation and Property Calculation\n",
    "\n",
    "In this notebook, you will get some hands-on experience with two cheminformatics techniques that medicinal chemists use. \n",
    "We will be performing a \"positional analogue scan\" of a moleule by doing a \"nitrogen walk\" in a ring system.\n",
    "\n",
    "This lab is based heavily on [a blog post](https://practicalcheminformatics.blogspot.com/2020/04/positional-analogue-scanning.html) by [Dr. Patrick Walters](https://www.linkedin.com/in/wpwalters/), a professional chemist and Chief Data Officer of Relay Therapeutics.\n",
    "Dr. Walters has a blog, [Practical Cheminformatics](https://practicalcheminformatics.blogspot.com/) that he updates with evaluations and code implementations of Cheminformatics concepts. \n",
    "Dr. Walters also provides many code examples for you to follow along with the blog posts if you so wish.\n",
    "It is an excellent resource for learning about cheminformatics!\n",
    "\n",
    "## Generating Molecules: Positional Analogue Scanning\n",
    "In medicinal chemistry and cheminformatics, one task scientists have is to generate and test new molecules.\n",
    "With the Positional Analogue Scanning (PAS) technique, one takes a \"lead\" molecule and a substituent of interest and \"walks\" the substituent around the molecule, placing it in different positions in the molecule.\n",
    "The generated structures can then be evaluated in different ways to see if any of them are promising candidates for further testing.\n",
    "\n",
    "In this lab, we will perform a type of PAS called a \"nitrogen walk\". \n",
    "In a nitrogen walk, aromatic carbons in ring systems are replaced by nitrogen atoms.\n",
    "We will use the function for a nitrogen walk provided by Dr. Walters in his blog post.\n",
    "\n",
    "**Exercise** - Explain what each line of the function does by adding comments to the function."
   ]
  },
  {
   "cell_type": "code",
   "execution_count": null,
   "id": "6a627365-40e6-473c-ab77-4a08dc3f61ee",
   "metadata": {},
   "outputs": [],
   "source": [
    "from rdkit import Chem\n",
    "from itertools import combinations\n",
    "\n",
    "def nitrogen_walk(mol_in, num_N=1):\n",
    "    out_mol_list = []\n",
    "    used = set()\n",
    "    aromatic_cH = Chem.MolFromSmarts(\"[cH]\")\n",
    "    match_atms = [x[0] for x in mol_in.GetSubstructMatches(aromatic_cH)]\n",
    "    n_combos = combinations(match_atms, num_N)\n",
    "    for combo in n_combos:\n",
    "        new_mol = Chem.RWMol(mol_in)\n",
    "        for idx in combo:\n",
    "            atm = new_mol.GetAtomWithIdx(idx)\n",
    "            atm.SetAtomicNum(7)\n",
    "        smi = Chem.MolToSmiles(new_mol)\n",
    "        if smi not in used:\n",
    "            used.add(smi)\n",
    "            out_mol_list.append(new_mol)\n",
    "    return out_mol_list"
   ]
  },
  {
   "cell_type": "markdown",
   "id": "eb701afc-b743-40b3-ab7b-dee12bc41da6",
   "metadata": {},
   "source": [
    "To understand what is happening, let's apply this nitrogen walk to benzene and to aniline, which we looked at in the last notebook."
   ]
  },
  {
   "cell_type": "code",
   "execution_count": null,
   "id": "8f46c2d0-d649-4549-ad04-c45971479515",
   "metadata": {},
   "outputs": [],
   "source": [
    "# make benzene and aniline molecules\n",
    "benzene = Chem.MolFromSmiles(\"c1ccccc1\")\n",
    "aniline = Chem.MolFromSmiles(\"c1ccccc1N\")"
   ]
  },
  {
   "cell_type": "code",
   "execution_count": null,
   "id": "37448ea9-af90-4394-9a43-e3d2476e140c",
   "metadata": {},
   "outputs": [],
   "source": [
    "# create analogues\n",
    "benzene_analogues = nitrogen_walk(benzene, 1)\n",
    "aniline_analogues = nitrogen_walk(aniline, 1)"
   ]
  },
  {
   "cell_type": "markdown",
   "id": "1a06169e-3747-4d0c-8c42-c2cb83d24c75",
   "metadata": {},
   "source": [
    "If we visualize the molecules after our nitrogen walk, we will see which atoms matched our aromatic carbon pattern."
   ]
  },
  {
   "cell_type": "code",
   "execution_count": null,
   "id": "45f4a928-2235-4248-a7f1-0f10116401c0",
   "metadata": {},
   "outputs": [],
   "source": [
    "benzene"
   ]
  },
  {
   "cell_type": "code",
   "execution_count": null,
   "id": "9ca32071-2afa-4b53-854c-cda6f0d3d21c",
   "metadata": {},
   "outputs": [],
   "source": [
    "aniline"
   ]
  },
  {
   "cell_type": "code",
   "execution_count": null,
   "id": "0bc7ca9e-0e2f-455e-adeb-6fcf6641c747",
   "metadata": {},
   "outputs": [],
   "source": [
    "# visualize\n",
    "from rdkit.Chem import Draw\n",
    "\n",
    "benzene_molecules = [ benzene ] + benzene_analogues\n",
    "labels = [ \"Benzene\" ] + [  f\"Analogue {i}\" for i in range(1, len(benzene_molecules))] \n",
    "Draw.MolsToGridImage(benzene_molecules, molsPerRow=4, subImgSize=(200, 200), legends=labels)"
   ]
  },
  {
   "cell_type": "code",
   "execution_count": null,
   "id": "52079ef8-f525-4cb1-acc0-3aeb75409606",
   "metadata": {},
   "outputs": [],
   "source": [
    "## Repeat to draw aniline analogues\n",
    "\n"
   ]
  },
  {
   "cell_type": "markdown",
   "id": "aee5dca3-9daa-4cc7-8dc5-ccc9fe99e5fe",
   "metadata": {},
   "source": [
    "**Chemistry Question** - Why does benzene only have one analogue when there are six aromatic nitrogens? Why does nitrobenzene have three analogues?\n",
    "\n",
    "\n",
    "**Exercise** - Try generating more analogues by adding more nitrogens to the rings.\n"
   ]
  },
  {
   "cell_type": "code",
   "execution_count": null,
   "id": "f92a5a0d-1614-4e9c-a3c9-e35d4917b9d0",
   "metadata": {},
   "outputs": [],
   "source": []
  },
  {
   "cell_type": "code",
   "execution_count": null,
   "id": "63f69d5a-8a72-42e5-993c-697529a4067b",
   "metadata": {},
   "outputs": [],
   "source": []
  },
  {
   "cell_type": "code",
   "execution_count": null,
   "id": "c885a8ff-c699-4dd2-a40c-e812088f43b0",
   "metadata": {},
   "outputs": [],
   "source": []
  },
  {
   "cell_type": "markdown",
   "id": "0b0a4e9f-a54f-4d9f-a947-0c63bb8f8cea",
   "metadata": {},
   "source": [
    "## Mearsuring Drug-Likeness: QED\n",
    "\n",
    "Once molecules are generated, they will be analyzed further to evaluate appropriateness for a specific purpose. \n",
    "In his blog post, Dr. Walters give the following possibilities of follow up studies:\n",
    "\n",
    "* Evaluating the impact of small changes in chemical structure on conformation.   By comparing conformational ensembles between two related molecules we can see which changes will, and will not, impact conformation.  \n",
    "* \n",
    "Examine how positional analogs impact a molecule's electrostatic potential\n",
    "* \n",
    "Docking the analogs and examining which changes preserve key interactions and which ones make new interaction\n",
    "*  \n",
    "Carrying out free energy calculations to predict changes that will potentially improve a compound's binding affini\n",
    "\n",
    "Some of these, like electrostsic potential, could be calculated using QM software like Psi4 that we learned about in an earlier lab.\n",
    "\n",
    "For the purposes of our exercise, we will evaluate the generated molecule's \"drug-likeness\" using a method called \"Quantitative Estimate of Druglikeness\" or QED. \n",
    "QED was first proposed in a [paper published in 2012](https://www.ncbi.nlm.nih.gov/pmc/articles/PMC3524573/#R27). \n",
    "QED is simply a measure of how similar a molecule is to known approved drugs.\n",
    "QED is far from the only measurement for evaluating molecules, and it is important to remember that it\n",
    "doesn't indicate a molecule's effectiveness as a drug for a particular purpose.\n",
    "\n",
    "The formula for QED is:\n",
    "\n",
    "$$\n",
    "QED = \\exp \\left( -\\frac{1}{n} \\sum_{i=1}^{n} \\ln d_i \\right)\n",
    "$$\n",
    "\n",
    "Where $n$ corresponds to a particular molecular descriptor and $d$ is a desirability function for each descriptor.\n",
    "The \"desirability functions\" were derived based on observations of a set of known drug molecules.\n",
    "\n",
    "The molecular properties (chemical descriptors) used for QED by the original paper were:\n",
    "\n",
    "1. Molecular weight\n",
    "2. Octanol-watter partition coefficient (ALOGP)\n",
    "3. Number of hydrogen bond donors\n",
    "4. Number of hydrogen bond acceptors\n",
    "5. Molecular polar surface area\n",
    "6. Number of rotatable bonds\n",
    "7. Number of aromatic rings\n",
    "8. Number of structural alerts\n",
    "\n",
    "While we could pull most of these descriptors from RDKit ourselves to implement a QED calculation, it is beyond\n",
    "the scope of this lab.\n",
    "We will use RDKit's built-in [QED function](https://www.rdkit.org/docs/source/rdkit.Chem.QED.html) to calculate the \"drug-likeness\" of our analogues."
   ]
  },
  {
   "cell_type": "code",
   "execution_count": null,
   "id": "e9f27e72-44a4-4e91-abe0-6a4e68bbddad",
   "metadata": {},
   "outputs": [],
   "source": [
    "import pandas as pd\n",
    "\n",
    "from rdkit.Chem import QED"
   ]
  },
  {
   "cell_type": "code",
   "execution_count": null,
   "id": "4bee86b7-ffea-4938-a2ac-49048713874d",
   "metadata": {},
   "outputs": [],
   "source": [
    "df = pd.DataFrame(columns=[\"mol\", \"smiles\", \"qed\"])"
   ]
  },
  {
   "cell_type": "code",
   "execution_count": null,
   "id": "324e9d72-510e-4b0c-a9dd-7210fac9aeec",
   "metadata": {},
   "outputs": [],
   "source": [
    "df[\"mol\"] = benzene_molecules\n",
    "df[\"smiles\"] = df[\"mol\"].apply(Chem.MolToSmiles)"
   ]
  },
  {
   "cell_type": "code",
   "execution_count": null,
   "id": "86725e2f-1bc6-49b5-90a6-7f7b6cb9050a",
   "metadata": {},
   "outputs": [],
   "source": [
    "df.head()"
   ]
  },
  {
   "cell_type": "code",
   "execution_count": null,
   "id": "196a46e3-7ba2-41b4-b67f-7ce83d47f2a7",
   "metadata": {},
   "outputs": [],
   "source": [
    "df[\"qed\"] = df[\"mol\"].apply(QED.qed)"
   ]
  },
  {
   "cell_type": "code",
   "execution_count": null,
   "id": "bb2f1ee7-7167-44f9-b65e-ba3ab480d8c7",
   "metadata": {},
   "outputs": [],
   "source": [
    "df.head()"
   ]
  },
  {
   "cell_type": "markdown",
   "id": "b8179fcd-fd34-4267-91ef-442565930c24",
   "metadata": {},
   "source": [
    "For visualizing molecules in a dataframe, it is convenient to use the `mols2grid` package (included in your environment)."
   ]
  },
  {
   "cell_type": "code",
   "execution_count": null,
   "id": "2610305a-b8c7-4946-9e74-df5596f4d6d5",
   "metadata": {},
   "outputs": [],
   "source": [
    "import mols2grid\n",
    "\n",
    "# display our df. The subset argument controls what information will show up in the grid\n",
    "# we will display the SMILES, molecule image, and calculated QED score.\n",
    "mols2grid.display(df, smiles_col=\"smiles\", subset=[\"smiles\", \"img\", \"qed\"], size=(200,200))"
   ]
  },
  {
   "cell_type": "code",
   "execution_count": null,
   "id": "abf9975d-ad64-4703-a4cd-aecae16db9d3",
   "metadata": {},
   "outputs": [],
   "source": [
    "## Repeat for aniline analogues\n"
   ]
  },
  {
   "cell_type": "code",
   "execution_count": null,
   "id": "c8a070fd-384e-4f5f-9479-6a8dd0421f5c",
   "metadata": {},
   "outputs": [],
   "source": []
  },
  {
   "cell_type": "code",
   "execution_count": null,
   "id": "6917dcae-1bd6-4577-9b10-8b71624efe43",
   "metadata": {},
   "outputs": [],
   "source": []
  },
  {
   "cell_type": "code",
   "execution_count": null,
   "id": "a13588e0-e867-445a-a1bb-9d35be84ded1",
   "metadata": {},
   "outputs": [],
   "source": []
  },
  {
   "cell_type": "markdown",
   "id": "65641d2f-d3c4-4336-a22f-e4049bfbbdd6",
   "metadata": {},
   "source": [
    "## Exercise - Generate Molecules and Evaluate QED\n",
    "For this next section, you will be performing a nitrogen walk for a lead molecule candidate.\n",
    "You should generate analogues then evaluate the QED of the generated molecules.\n",
    "Generate analogues that have 1, 2, or 3 nitrogens.\n",
    "\n",
    "Put the results in a dataframe and pick the five molecules with the highest QED scores.\n",
    "Cross-reference your molecules in PubChem. \n",
    "Do any of them correspond to real drugs?"
   ]
  },
  {
   "cell_type": "code",
   "execution_count": null,
   "id": "5af7ac36-b3d0-4521-ad13-33581aa59caa",
   "metadata": {},
   "outputs": [],
   "source": [
    "lead_molecule = \"CCc1cc(N)cc(N)c1-c1ccc(Cl)cc1\"\n",
    "mol = Chem.MolFromSmiles(lead_molecule)\n",
    "\n",
    "mol"
   ]
  },
  {
   "cell_type": "code",
   "execution_count": null,
   "id": "62019f77-bb9c-434a-8529-e9b38787ebe5",
   "metadata": {},
   "outputs": [],
   "source": []
  },
  {
   "cell_type": "code",
   "execution_count": null,
   "id": "fd06e56b-ac34-4453-8220-44fca7d32275",
   "metadata": {},
   "outputs": [],
   "source": []
  },
  {
   "cell_type": "code",
   "execution_count": null,
   "id": "c766c181-babe-4ba0-8fa3-54150018c47d",
   "metadata": {},
   "outputs": [],
   "source": []
  }
 ],
 "metadata": {
  "kernelspec": {
   "display_name": "Python 3 (ipykernel)",
   "language": "python",
   "name": "python3"
  },
  "language_info": {
   "codemirror_mode": {
    "name": "ipython",
    "version": 3
   },
   "file_extension": ".py",
   "mimetype": "text/x-python",
   "name": "python",
   "nbconvert_exporter": "python",
   "pygments_lexer": "ipython3",
   "version": "3.11.6"
  }
 },
 "nbformat": 4,
 "nbformat_minor": 5
}
